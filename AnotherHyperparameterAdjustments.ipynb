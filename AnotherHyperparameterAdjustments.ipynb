{
  "cells": [
    {
      "cell_type": "code",
      "execution_count": 21,
      "metadata": {
        "id": "mF-3OakB_Auh"
      },
      "outputs": [],
      "source": [
        "import pandas as pd\n",
        "import numpy as np\n",
        "import matplotlib.pyplot as plt\n",
        "import seaborn as sns\n",
        "import warnings\n",
        "warnings.filterwarnings('ignore')"
      ]
    },
    {
      "cell_type": "code",
      "execution_count": 22,
      "metadata": {
        "id": "unF_WreU_QOr"
      },
      "outputs": [],
      "source": [
        "data = sns.load_dataset('titanic')\n",
        "\n",
        "numeric_features = ['pclass','age','sibsp', 'parch', 'fare']\n",
        "categorical_features = ['sex']\n",
        "all_features = numeric_features + categorical_features\n",
        "\n",
        "target = ['survived']\n",
        "\n",
        "X = data[all_features]\n",
        "y = data[target]\n"
      ]
    },
    {
      "cell_type": "code",
      "execution_count": 23,
      "metadata": {
        "colab": {
          "base_uri": "https://localhost:8080/"
        },
        "id": "AxdpNyFm_iSj",
        "outputId": "6a9009b1-06fe-4ca1-d472-63c760ece822"
      },
      "outputs": [],
      "source": [
        "from sklearn.model_selection import train_test_split\n",
        "\n",
        "x_train, x_test, y_train, y_test = train_test_split(X,y,test_size = 0.2, random_state=123)\n"
      ]
    },
    {
      "cell_type": "code",
      "execution_count": 24,
      "metadata": {},
      "outputs": [],
      "source": [
        "x_train, x_val, y_train, y_val = train_test_split(x_train,y_train,test_size = 0.2, random_state=123)"
      ]
    },
    {
      "cell_type": "markdown",
      "metadata": {},
      "source": [
        "### Preprocesamiento"
      ]
    },
    {
      "cell_type": "code",
      "execution_count": 25,
      "metadata": {},
      "outputs": [],
      "source": [
        "# Variables categoricas convertidas con onehot-encoding\n",
        "\n",
        "from sklearn.preprocessing import OneHotEncoder\n",
        "\n",
        "# The encoder is used to convert categorical variables into a format that machine learning algorithms can understand.\n",
        "# It transforms categorical variables into numerical representations.\n",
        "# For example, LabelEncoder assigns integer labels to different categories, and OneHotEncoder creates binary columns for each category.\n",
        "\n",
        "encoder = OneHotEncoder(handle_unknown='ignore')\n",
        "x_train_cat = pd.DataFrame(encoder.fit_transform(x_train[categorical_features]).toarray(), index=x_train.index, columns=encoder.categories_[0])\n",
        "x_val_cat = pd.DataFrame(encoder.transform(x_val[categorical_features]).toarray(), index=x_val.index, columns=encoder.categories_[0])\n",
        "x_test_cat = pd.DataFrame(encoder.transform(x_test[categorical_features]).toarray(), index=x_test.index, columns=encoder.categories_[0])"
      ]
    },
    {
      "cell_type": "code",
      "execution_count": 26,
      "metadata": {},
      "outputs": [
        {
          "data": {
            "text/plain": [
              "pclass    0.000000\n",
              "age       0.203866\n",
              "sibsp     0.000000\n",
              "parch     0.000000\n",
              "fare      0.000000\n",
              "sex       0.000000\n",
              "dtype: float64"
            ]
          },
          "execution_count": 26,
          "metadata": {},
          "output_type": "execute_result"
        }
      ],
      "source": [
        "\n",
        "# Datos en blanco\n",
        "\n",
        "x_train.isna().mean()"
      ]
    },
    {
      "cell_type": "code",
      "execution_count": 27,
      "metadata": {},
      "outputs": [],
      "source": [
        "from sklearn.impute import KNNImputer\n",
        "from sklearn.impute import SimpleImputer\n",
        "\n",
        "imputer1 = SimpleImputer(strategy='mean')\n",
        "imputer2 = KNNImputer()\n",
        "\n",
        "# The imputer is used to handle missing values in your dataset.\n",
        "# It estimates missing values based on the strategy you choose (e.g., mean, median, or most frequent).\n",
        "# The fit_transform() method fits the imputer on your data and simultaneously\n",
        "# transforms the dataset by replacing missing values with the estimated ones.\n",
        "\n",
        "x_train_no_missing = pd.DataFrame(imputer2.fit_transform(x_train[numeric_features]), index = x_train.index, columns = numeric_features)\n",
        "x_val_no_missing = pd.DataFrame(imputer2.transform(x_val[numeric_features]), index = x_val.index, columns = numeric_features)\n",
        "x_test_no_missing = pd.DataFrame(imputer2.transform(x_test[numeric_features]), index = x_test.index, columns = numeric_features)"
      ]
    },
    {
      "cell_type": "code",
      "execution_count": 28,
      "metadata": {},
      "outputs": [
        {
          "data": {
            "text/plain": [
              "pclass    0.000000\n",
              "age       0.203866\n",
              "sibsp     0.000000\n",
              "parch     0.000000\n",
              "fare      0.000000\n",
              "sex       0.000000\n",
              "dtype: float64"
            ]
          },
          "execution_count": 28,
          "metadata": {},
          "output_type": "execute_result"
        }
      ],
      "source": [
        "x_train.isna().mean()"
      ]
    },
    {
      "cell_type": "code",
      "execution_count": 29,
      "metadata": {},
      "outputs": [
        {
          "data": {
            "text/plain": [
              "pclass    0.0\n",
              "age       0.0\n",
              "sibsp     0.0\n",
              "parch     0.0\n",
              "fare      0.0\n",
              "dtype: float64"
            ]
          },
          "execution_count": 29,
          "metadata": {},
          "output_type": "execute_result"
        }
      ],
      "source": [
        "x_train_no_missing.isna().mean()"
      ]
    },
    {
      "cell_type": "code",
      "execution_count": 51,
      "metadata": {},
      "outputs": [],
      "source": [
        "x_train_final = pd.concat([x_train_no_missing, x_train_cat], axis=1)\n",
        "x_val_final = pd.concat([x_val_no_missing, x_val_cat], axis=1)\n",
        "x_test_final = pd.concat([x_test_no_missing, x_test_cat], axis=1)"
      ]
    },
    {
      "cell_type": "code",
      "execution_count": 53,
      "metadata": {},
      "outputs": [
        {
          "data": {
            "text/html": [
              "<div>\n",
              "<style scoped>\n",
              "    .dataframe tbody tr th:only-of-type {\n",
              "        vertical-align: middle;\n",
              "    }\n",
              "\n",
              "    .dataframe tbody tr th {\n",
              "        vertical-align: top;\n",
              "    }\n",
              "\n",
              "    .dataframe thead th {\n",
              "        text-align: right;\n",
              "    }\n",
              "</style>\n",
              "<table border=\"1\" class=\"dataframe\">\n",
              "  <thead>\n",
              "    <tr style=\"text-align: right;\">\n",
              "      <th></th>\n",
              "      <th>pclass</th>\n",
              "      <th>age</th>\n",
              "      <th>sibsp</th>\n",
              "      <th>parch</th>\n",
              "      <th>fare</th>\n",
              "      <th>female</th>\n",
              "      <th>male</th>\n",
              "    </tr>\n",
              "  </thead>\n",
              "  <tbody>\n",
              "    <tr>\n",
              "      <th>639</th>\n",
              "      <td>3.0</td>\n",
              "      <td>30.0</td>\n",
              "      <td>1.0</td>\n",
              "      <td>0.0</td>\n",
              "      <td>16.1000</td>\n",
              "      <td>0.0</td>\n",
              "      <td>1.0</td>\n",
              "    </tr>\n",
              "    <tr>\n",
              "      <th>611</th>\n",
              "      <td>3.0</td>\n",
              "      <td>38.0</td>\n",
              "      <td>0.0</td>\n",
              "      <td>0.0</td>\n",
              "      <td>7.0500</td>\n",
              "      <td>0.0</td>\n",
              "      <td>1.0</td>\n",
              "    </tr>\n",
              "    <tr>\n",
              "      <th>53</th>\n",
              "      <td>2.0</td>\n",
              "      <td>29.0</td>\n",
              "      <td>1.0</td>\n",
              "      <td>0.0</td>\n",
              "      <td>26.0000</td>\n",
              "      <td>1.0</td>\n",
              "      <td>0.0</td>\n",
              "    </tr>\n",
              "    <tr>\n",
              "      <th>334</th>\n",
              "      <td>1.0</td>\n",
              "      <td>37.8</td>\n",
              "      <td>1.0</td>\n",
              "      <td>0.0</td>\n",
              "      <td>133.6500</td>\n",
              "      <td>1.0</td>\n",
              "      <td>0.0</td>\n",
              "    </tr>\n",
              "    <tr>\n",
              "      <th>499</th>\n",
              "      <td>3.0</td>\n",
              "      <td>24.0</td>\n",
              "      <td>0.0</td>\n",
              "      <td>0.0</td>\n",
              "      <td>7.7958</td>\n",
              "      <td>0.0</td>\n",
              "      <td>1.0</td>\n",
              "    </tr>\n",
              "    <tr>\n",
              "      <th>...</th>\n",
              "      <td>...</td>\n",
              "      <td>...</td>\n",
              "      <td>...</td>\n",
              "      <td>...</td>\n",
              "      <td>...</td>\n",
              "      <td>...</td>\n",
              "      <td>...</td>\n",
              "    </tr>\n",
              "    <tr>\n",
              "      <th>608</th>\n",
              "      <td>2.0</td>\n",
              "      <td>22.0</td>\n",
              "      <td>1.0</td>\n",
              "      <td>2.0</td>\n",
              "      <td>41.5792</td>\n",
              "      <td>1.0</td>\n",
              "      <td>0.0</td>\n",
              "    </tr>\n",
              "    <tr>\n",
              "      <th>610</th>\n",
              "      <td>3.0</td>\n",
              "      <td>39.0</td>\n",
              "      <td>1.0</td>\n",
              "      <td>5.0</td>\n",
              "      <td>31.2750</td>\n",
              "      <td>1.0</td>\n",
              "      <td>0.0</td>\n",
              "    </tr>\n",
              "    <tr>\n",
              "      <th>836</th>\n",
              "      <td>3.0</td>\n",
              "      <td>21.0</td>\n",
              "      <td>0.0</td>\n",
              "      <td>0.0</td>\n",
              "      <td>8.6625</td>\n",
              "      <td>0.0</td>\n",
              "      <td>1.0</td>\n",
              "    </tr>\n",
              "    <tr>\n",
              "      <th>175</th>\n",
              "      <td>3.0</td>\n",
              "      <td>18.0</td>\n",
              "      <td>1.0</td>\n",
              "      <td>1.0</td>\n",
              "      <td>7.8542</td>\n",
              "      <td>0.0</td>\n",
              "      <td>1.0</td>\n",
              "    </tr>\n",
              "    <tr>\n",
              "      <th>718</th>\n",
              "      <td>3.0</td>\n",
              "      <td>27.2</td>\n",
              "      <td>0.0</td>\n",
              "      <td>0.0</td>\n",
              "      <td>15.5000</td>\n",
              "      <td>0.0</td>\n",
              "      <td>1.0</td>\n",
              "    </tr>\n",
              "  </tbody>\n",
              "</table>\n",
              "<p>143 rows × 7 columns</p>\n",
              "</div>"
            ],
            "text/plain": [
              "     pclass   age  sibsp  parch      fare  female  male\n",
              "639     3.0  30.0    1.0    0.0   16.1000     0.0   1.0\n",
              "611     3.0  38.0    0.0    0.0    7.0500     0.0   1.0\n",
              "53      2.0  29.0    1.0    0.0   26.0000     1.0   0.0\n",
              "334     1.0  37.8    1.0    0.0  133.6500     1.0   0.0\n",
              "499     3.0  24.0    0.0    0.0    7.7958     0.0   1.0\n",
              "..      ...   ...    ...    ...       ...     ...   ...\n",
              "608     2.0  22.0    1.0    2.0   41.5792     1.0   0.0\n",
              "610     3.0  39.0    1.0    5.0   31.2750     1.0   0.0\n",
              "836     3.0  21.0    0.0    0.0    8.6625     0.0   1.0\n",
              "175     3.0  18.0    1.0    1.0    7.8542     0.0   1.0\n",
              "718     3.0  27.2    0.0    0.0   15.5000     0.0   1.0\n",
              "\n",
              "[143 rows x 7 columns]"
            ]
          },
          "execution_count": 53,
          "metadata": {},
          "output_type": "execute_result"
        }
      ],
      "source": [
        "x_val_final"
      ]
    },
    {
      "cell_type": "code",
      "execution_count": 54,
      "metadata": {},
      "outputs": [
        {
          "data": {
            "text/html": [
              "<div>\n",
              "<style scoped>\n",
              "    .dataframe tbody tr th:only-of-type {\n",
              "        vertical-align: middle;\n",
              "    }\n",
              "\n",
              "    .dataframe tbody tr th {\n",
              "        vertical-align: top;\n",
              "    }\n",
              "\n",
              "    .dataframe thead th {\n",
              "        text-align: right;\n",
              "    }\n",
              "</style>\n",
              "<table border=\"1\" class=\"dataframe\">\n",
              "  <thead>\n",
              "    <tr style=\"text-align: right;\">\n",
              "      <th></th>\n",
              "      <th>pclass</th>\n",
              "      <th>age</th>\n",
              "      <th>sibsp</th>\n",
              "      <th>parch</th>\n",
              "      <th>fare</th>\n",
              "      <th>female</th>\n",
              "      <th>male</th>\n",
              "    </tr>\n",
              "  </thead>\n",
              "  <tbody>\n",
              "    <tr>\n",
              "      <th>535</th>\n",
              "      <td>-0.369197</td>\n",
              "      <td>-1.781070</td>\n",
              "      <td>-0.466182</td>\n",
              "      <td>2.182424</td>\n",
              "      <td>-0.135687</td>\n",
              "      <td>1.347899</td>\n",
              "      <td>-1.347899</td>\n",
              "    </tr>\n",
              "    <tr>\n",
              "      <th>573</th>\n",
              "      <td>0.817657</td>\n",
              "      <td>-0.057075</td>\n",
              "      <td>-0.466182</td>\n",
              "      <td>-0.473831</td>\n",
              "      <td>-0.488652</td>\n",
              "      <td>1.347899</td>\n",
              "      <td>-1.347899</td>\n",
              "    </tr>\n",
              "    <tr>\n",
              "      <th>736</th>\n",
              "      <td>0.817657</td>\n",
              "      <td>1.360433</td>\n",
              "      <td>0.467823</td>\n",
              "      <td>3.510552</td>\n",
              "      <td>0.019331</td>\n",
              "      <td>1.347899</td>\n",
              "      <td>-1.347899</td>\n",
              "    </tr>\n",
              "    <tr>\n",
              "      <th>713</th>\n",
              "      <td>0.817657</td>\n",
              "      <td>-0.095386</td>\n",
              "      <td>-0.466182</td>\n",
              "      <td>-0.473831</td>\n",
              "      <td>-0.455582</td>\n",
              "      <td>-0.741895</td>\n",
              "      <td>0.741895</td>\n",
              "    </tr>\n",
              "    <tr>\n",
              "      <th>528</th>\n",
              "      <td>0.817657</td>\n",
              "      <td>0.670835</td>\n",
              "      <td>-0.466182</td>\n",
              "      <td>-0.473831</td>\n",
              "      <td>-0.485313</td>\n",
              "      <td>-0.741895</td>\n",
              "      <td>0.741895</td>\n",
              "    </tr>\n",
              "  </tbody>\n",
              "</table>\n",
              "</div>"
            ],
            "text/plain": [
              "       pclass       age     sibsp     parch      fare    female      male\n",
              "535 -0.369197 -1.781070 -0.466182  2.182424 -0.135687  1.347899 -1.347899\n",
              "573  0.817657 -0.057075 -0.466182 -0.473831 -0.488652  1.347899 -1.347899\n",
              "736  0.817657  1.360433  0.467823  3.510552  0.019331  1.347899 -1.347899\n",
              "713  0.817657 -0.095386 -0.466182 -0.473831 -0.455582 -0.741895  0.741895\n",
              "528  0.817657  0.670835 -0.466182 -0.473831 -0.485313 -0.741895  0.741895"
            ]
          },
          "execution_count": 54,
          "metadata": {},
          "output_type": "execute_result"
        }
      ],
      "source": [
        "# Escalamiento de datos\n",
        "# The scaler is used to scale numeric features to a standard range.\n",
        "# It standardizes or normalizes the numeric features, which can be important for algorithms that are sensitive to the scale of input features.\n",
        "# Common scalers include StandardScaler for z-score normalization and MinMaxScaler for scaling features to a specified range.\n",
        "\n",
        "from sklearn.preprocessing import StandardScaler\n",
        "scaler = StandardScaler()\n",
        "\n",
        "x_train_final_escalado = pd.DataFrame(scaler.fit_transform(x_train_final), index = x_train_final.index, columns = x_train_final.columns)\n",
        "x_val_final_escalado = pd.DataFrame(scaler.transform(x_val_final), index = x_val_final.index, columns = x_val_final.columns)\n",
        "x_test_final_escalado = pd.DataFrame(scaler.transform(x_test_final), index = x_test_final.index, columns = x_test_final.columns)\n",
        "\n",
        "x_train_final_escalado.head()"
      ]
    },
    {
      "cell_type": "code",
      "execution_count": 74,
      "metadata": {},
      "outputs": [
        {
          "name": "stdout",
          "output_type": "stream",
          "text": [
            "(0.7972027972027972, {'C': 1.0, 'class_weight': None, 'dual': False, 'fit_intercept': True, 'intercept_scaling': 1, 'l1_ratio': None, 'max_iter': 100, 'multi_class': 'auto', 'n_jobs': None, 'penalty': 'none', 'random_state': 123, 'solver': 'lbfgs', 'tol': 0.0001, 'verbose': 0, 'warm_start': False})\n",
            "(0.8041958041958042, {'C': 0.03, 'class_weight': None, 'dual': False, 'fit_intercept': True, 'intercept_scaling': 1, 'l1_ratio': None, 'max_iter': 100, 'multi_class': 'auto', 'n_jobs': None, 'penalty': 'l1', 'random_state': 123, 'solver': 'liblinear', 'tol': 0.0001, 'verbose': 0, 'warm_start': False})\n",
            "(0.8251748251748252, {'C': 0.03, 'class_weight': None, 'dual': False, 'fit_intercept': True, 'intercept_scaling': 1, 'l1_ratio': None, 'max_iter': 100, 'multi_class': 'auto', 'n_jobs': None, 'penalty': 'l2', 'random_state': 123, 'solver': 'lbfgs', 'tol': 0.0001, 'verbose': 0, 'warm_start': False})\n",
            "(0.8041958041958042, {'C': 0.04, 'class_weight': None, 'dual': False, 'fit_intercept': True, 'intercept_scaling': 1, 'l1_ratio': 0.9, 'max_iter': 100, 'multi_class': 'auto', 'n_jobs': None, 'penalty': 'elasticnet', 'random_state': 123, 'solver': 'saga', 'tol': 0.0001, 'verbose': 0, 'warm_start': False})\n"
          ]
        }
      ],
      "source": [
        "# Modelado de Datos\n",
        "\n",
        "from sklearn.linear_model import LogisticRegression\n",
        "from sklearn.metrics import accuracy_score\n",
        "\n",
        "# Warning The choice of the algorithm depends on the penalty chosen. Supported penalties by solver:\n",
        "\n",
        "# ‘lbfgs’ - [‘l2’, None]\n",
        "# ‘liblinear’ - [‘l1’, ‘l2’]\n",
        "# ‘newton-cg’ - [‘l2’, None]\n",
        "# ‘newton-cholesky’ - [‘l2’, None]\n",
        "# ‘sag’ - [‘l2’, None]\n",
        "# ‘saga’ - [‘elasticnet’, ‘l1’, ‘l2’, None]\n",
        "\n",
        "# In optimization terms, C is a regularization parameter that controls the trade-off between minimizing the\n",
        "# training error and minimizing the complexity of the model (the magnitudes of the coefficients in linear models).\n",
        "\n",
        "model_no_penalty = LogisticRegression(penalty='none', random_state=123)\n",
        "model_lasso = LogisticRegression(penalty='l1', random_state=123, solver='liblinear', C=0.03)\n",
        "model_ridge = LogisticRegression(penalty='l2', random_state=123, C=0.03) # default, no need for explicit penalty\n",
        "model_elescticnet = LogisticRegression(penalty='elasticnet', random_state=123, solver='saga', l1_ratio=0.9, C=0.04)\n",
        "\n",
        "\n",
        "def train_and_predict(model, X, y):\n",
        "    model.fit(x_train_final_escalado, y_train)\n",
        "    predict = model.predict(X)\n",
        "    score = accuracy_score(predict, y)\n",
        "    return score, model.get_params() \n",
        "\n",
        "print(train_and_predict(model_no_penalty, x_val_final_escalado, y_val))\n",
        "print(train_and_predict(model_lasso, x_val_final_escalado, y_val))\n",
        "print(train_and_predict(model_ridge, x_val_final_escalado, y_val))\n",
        "print(train_and_predict(model_elescticnet, x_val_final_escalado, y_val))"
      ]
    },
    {
      "cell_type": "code",
      "execution_count": 84,
      "metadata": {},
      "outputs": [
        {
          "data": {
            "text/html": [
              "<style>#sk-container-id-4 {color: black;}#sk-container-id-4 pre{padding: 0;}#sk-container-id-4 div.sk-toggleable {background-color: white;}#sk-container-id-4 label.sk-toggleable__label {cursor: pointer;display: block;width: 100%;margin-bottom: 0;padding: 0.3em;box-sizing: border-box;text-align: center;}#sk-container-id-4 label.sk-toggleable__label-arrow:before {content: \"▸\";float: left;margin-right: 0.25em;color: #696969;}#sk-container-id-4 label.sk-toggleable__label-arrow:hover:before {color: black;}#sk-container-id-4 div.sk-estimator:hover label.sk-toggleable__label-arrow:before {color: black;}#sk-container-id-4 div.sk-toggleable__content {max-height: 0;max-width: 0;overflow: hidden;text-align: left;background-color: #f0f8ff;}#sk-container-id-4 div.sk-toggleable__content pre {margin: 0.2em;color: black;border-radius: 0.25em;background-color: #f0f8ff;}#sk-container-id-4 input.sk-toggleable__control:checked~div.sk-toggleable__content {max-height: 200px;max-width: 100%;overflow: auto;}#sk-container-id-4 input.sk-toggleable__control:checked~label.sk-toggleable__label-arrow:before {content: \"▾\";}#sk-container-id-4 div.sk-estimator input.sk-toggleable__control:checked~label.sk-toggleable__label {background-color: #d4ebff;}#sk-container-id-4 div.sk-label input.sk-toggleable__control:checked~label.sk-toggleable__label {background-color: #d4ebff;}#sk-container-id-4 input.sk-hidden--visually {border: 0;clip: rect(1px 1px 1px 1px);clip: rect(1px, 1px, 1px, 1px);height: 1px;margin: -1px;overflow: hidden;padding: 0;position: absolute;width: 1px;}#sk-container-id-4 div.sk-estimator {font-family: monospace;background-color: #f0f8ff;border: 1px dotted black;border-radius: 0.25em;box-sizing: border-box;margin-bottom: 0.5em;}#sk-container-id-4 div.sk-estimator:hover {background-color: #d4ebff;}#sk-container-id-4 div.sk-parallel-item::after {content: \"\";width: 100%;border-bottom: 1px solid gray;flex-grow: 1;}#sk-container-id-4 div.sk-label:hover label.sk-toggleable__label {background-color: #d4ebff;}#sk-container-id-4 div.sk-serial::before {content: \"\";position: absolute;border-left: 1px solid gray;box-sizing: border-box;top: 0;bottom: 0;left: 50%;z-index: 0;}#sk-container-id-4 div.sk-serial {display: flex;flex-direction: column;align-items: center;background-color: white;padding-right: 0.2em;padding-left: 0.2em;position: relative;}#sk-container-id-4 div.sk-item {position: relative;z-index: 1;}#sk-container-id-4 div.sk-parallel {display: flex;align-items: stretch;justify-content: center;background-color: white;position: relative;}#sk-container-id-4 div.sk-item::before, #sk-container-id-4 div.sk-parallel-item::before {content: \"\";position: absolute;border-left: 1px solid gray;box-sizing: border-box;top: 0;bottom: 0;left: 50%;z-index: -1;}#sk-container-id-4 div.sk-parallel-item {display: flex;flex-direction: column;z-index: 1;position: relative;background-color: white;}#sk-container-id-4 div.sk-parallel-item:first-child::after {align-self: flex-end;width: 50%;}#sk-container-id-4 div.sk-parallel-item:last-child::after {align-self: flex-start;width: 50%;}#sk-container-id-4 div.sk-parallel-item:only-child::after {width: 0;}#sk-container-id-4 div.sk-dashed-wrapped {border: 1px dashed gray;margin: 0 0.4em 0.5em 0.4em;box-sizing: border-box;padding-bottom: 0.4em;background-color: white;}#sk-container-id-4 div.sk-label label {font-family: monospace;font-weight: bold;display: inline-block;line-height: 1.2em;}#sk-container-id-4 div.sk-label-container {text-align: center;}#sk-container-id-4 div.sk-container {/* jupyter's `normalize.less` sets `[hidden] { display: none; }` but bootstrap.min.css set `[hidden] { display: none !important; }` so we also need the `!important` here to be able to override the default hidden behavior on the sphinx rendered scikit-learn.org. See: https://github.com/scikit-learn/scikit-learn/issues/21755 */display: inline-block !important;position: relative;}#sk-container-id-4 div.sk-text-repr-fallback {display: none;}</style><div id=\"sk-container-id-4\" class=\"sk-top-container\"><div class=\"sk-text-repr-fallback\"><pre>GridSearchCV(cv=6, estimator=LogisticRegression(),\n",
              "             param_grid={&#x27;C&#x27;: array([0.01, 0.02, 0.03, 0.04, 0.05, 0.06, 0.07, 0.08, 0.09, 0.1 , 0.11,\n",
              "       0.12, 0.13, 0.14, 0.15, 0.16, 0.17, 0.18, 0.19, 0.2 , 0.21, 0.22,\n",
              "       0.23, 0.24, 0.25, 0.26, 0.27, 0.28, 0.29]),\n",
              "                         &#x27;l1_ratio&#x27;: array([0.1, 0.2, 0.3, 0.4, 0.5, 0.6, 0.7, 0.8]),\n",
              "                         &#x27;penalty&#x27;: (&#x27;l1&#x27;, &#x27;l2&#x27;, &#x27;elasticnet&#x27;),\n",
              "                         &#x27;solver&#x27;: (&#x27;liblinear&#x27;, &#x27;saga&#x27;)})</pre><b>In a Jupyter environment, please rerun this cell to show the HTML representation or trust the notebook. <br />On GitHub, the HTML representation is unable to render, please try loading this page with nbviewer.org.</b></div><div class=\"sk-container\" hidden><div class=\"sk-item sk-dashed-wrapped\"><div class=\"sk-label-container\"><div class=\"sk-label sk-toggleable\"><input class=\"sk-toggleable__control sk-hidden--visually\" id=\"sk-estimator-id-6\" type=\"checkbox\" ><label for=\"sk-estimator-id-6\" class=\"sk-toggleable__label sk-toggleable__label-arrow\">GridSearchCV</label><div class=\"sk-toggleable__content\"><pre>GridSearchCV(cv=6, estimator=LogisticRegression(),\n",
              "             param_grid={&#x27;C&#x27;: array([0.01, 0.02, 0.03, 0.04, 0.05, 0.06, 0.07, 0.08, 0.09, 0.1 , 0.11,\n",
              "       0.12, 0.13, 0.14, 0.15, 0.16, 0.17, 0.18, 0.19, 0.2 , 0.21, 0.22,\n",
              "       0.23, 0.24, 0.25, 0.26, 0.27, 0.28, 0.29]),\n",
              "                         &#x27;l1_ratio&#x27;: array([0.1, 0.2, 0.3, 0.4, 0.5, 0.6, 0.7, 0.8]),\n",
              "                         &#x27;penalty&#x27;: (&#x27;l1&#x27;, &#x27;l2&#x27;, &#x27;elasticnet&#x27;),\n",
              "                         &#x27;solver&#x27;: (&#x27;liblinear&#x27;, &#x27;saga&#x27;)})</pre></div></div></div><div class=\"sk-parallel\"><div class=\"sk-parallel-item\"><div class=\"sk-item\"><div class=\"sk-label-container\"><div class=\"sk-label sk-toggleable\"><input class=\"sk-toggleable__control sk-hidden--visually\" id=\"sk-estimator-id-7\" type=\"checkbox\" ><label for=\"sk-estimator-id-7\" class=\"sk-toggleable__label sk-toggleable__label-arrow\">estimator: LogisticRegression</label><div class=\"sk-toggleable__content\"><pre>LogisticRegression()</pre></div></div></div><div class=\"sk-serial\"><div class=\"sk-item\"><div class=\"sk-estimator sk-toggleable\"><input class=\"sk-toggleable__control sk-hidden--visually\" id=\"sk-estimator-id-8\" type=\"checkbox\" ><label for=\"sk-estimator-id-8\" class=\"sk-toggleable__label sk-toggleable__label-arrow\">LogisticRegression</label><div class=\"sk-toggleable__content\"><pre>LogisticRegression()</pre></div></div></div></div></div></div></div></div></div></div>"
            ],
            "text/plain": [
              "GridSearchCV(cv=6, estimator=LogisticRegression(),\n",
              "             param_grid={'C': array([0.01, 0.02, 0.03, 0.04, 0.05, 0.06, 0.07, 0.08, 0.09, 0.1 , 0.11,\n",
              "       0.12, 0.13, 0.14, 0.15, 0.16, 0.17, 0.18, 0.19, 0.2 , 0.21, 0.22,\n",
              "       0.23, 0.24, 0.25, 0.26, 0.27, 0.28, 0.29]),\n",
              "                         'l1_ratio': array([0.1, 0.2, 0.3, 0.4, 0.5, 0.6, 0.7, 0.8]),\n",
              "                         'penalty': ('l1', 'l2', 'elasticnet'),\n",
              "                         'solver': ('liblinear', 'saga')})"
            ]
          },
          "execution_count": 84,
          "metadata": {},
          "output_type": "execute_result"
        }
      ],
      "source": [
        "from sklearn.model_selection import GridSearchCV, RandomizedSearchCV\n",
        "\n",
        "\n",
        "# Tuning the hyper-parameters of an estimator\n",
        "\n",
        "# Hyper-parameters are parameters that are not directly learnt within estimators\n",
        "\n",
        "# Method: Exhaustive Grid Search\n",
        "# The grid search provided by GridSearchCV exhaustively generates candidates from a grid of parameter values\n",
        "# specified with the param_grid parameter\n",
        "\n",
        "# RandomizedSearchCV implements a randomized search over parameters, where each setting is\n",
        "# sampled from a distribution over possible parameter values. This has two main benefits over an exhaustive search:\n",
        "\n",
        "#       A budget can be chosen independent of the number of parameters and possible values.\n",
        "\n",
        "#       Adding parameters that do not influence the performance does not decrease efficiency.\n",
        "\n",
        "\n",
        "# Se debe realizar imputer, scaler y encoding sobre x_train en la primera particion entre x_train y x_test\n",
        "\n",
        "x_train, x_test, y_train, y_test = train_test_split(X,y,test_size = 0.2, random_state=123)\n",
        "x_train_cat = pd.DataFrame(encoder.fit_transform(x_train[categorical_features]).toarray(), index=x_train.index, columns=encoder.categories_[0])\n",
        "x_train_no_missing = pd.DataFrame(imputer2.fit_transform(x_train[numeric_features]), index = x_train.index, columns = numeric_features)\n",
        "x_train_final = pd.concat([x_train_no_missing, x_train_cat], axis=1)\n",
        "x_train_final_escalado = pd.DataFrame(scaler.fit_transform(x_train_final), index = x_train_final.index, columns = x_train_final.columns)\n",
        "\n",
        "\n",
        "model_ridge = LogisticRegression() # default, no need for explicit penalty\n",
        "parameters = {\n",
        "            \n",
        "            'penalty':('l1', 'l2', 'elasticnet'),\n",
        "            'C': np.arange(0.01, 0.3, 0.01),\n",
        "            'solver': ('liblinear', 'saga'),\n",
        "            'l1_ratio': np.arange(0.1, 0.9, 0.1)\n",
        "\n",
        "            }\n",
        "\n",
        "grid_search = GridSearchCV(\n",
        "                            model_ridge,\n",
        "                            parameters,\n",
        "                            cv=6,\n",
        "                        \n",
        "                        )\n",
        "grid_search.fit(x_train_final_escalado, y_train)\n",
        "\n"
      ]
    },
    {
      "cell_type": "code",
      "execution_count": 85,
      "metadata": {},
      "outputs": [
        {
          "name": "stdout",
          "output_type": "stream",
          "text": [
            "0.7921711057304278\n",
            "{'C': 0.01, 'l1_ratio': 0.1, 'penalty': 'l2', 'solver': 'saga'}\n"
          ]
        }
      ],
      "source": [
        "print(grid_search.best_score_)\n",
        "print(grid_search.best_params_)"
      ]
    },
    {
      "cell_type": "code",
      "execution_count": 86,
      "metadata": {},
      "outputs": [
        {
          "data": {
            "text/plain": [
              "0.7932960893854749"
            ]
          },
          "execution_count": 86,
          "metadata": {},
          "output_type": "execute_result"
        }
      ],
      "source": [
        "# With best params found, we now train and predict final results\n",
        "\n",
        "final_model = LogisticRegression(**grid_search.best_params_)\n",
        "final_model.fit(x_train_final_escalado, y_train)\n",
        "final_predictions = final_model.predict(x_test_final_escalado)\n",
        "\n",
        "accuracy_score(final_predictions, y_test)"
      ]
    },
    {
      "cell_type": "code",
      "execution_count": null,
      "metadata": {
        "id": "bq-br2qTEsrN"
      },
      "outputs": [],
      "source": [
        "### Naive Bayes\n",
        "\n",
        "from sklearn.naive_bayes import GaussianNB\n",
        "from sklearn.linear_model import LogisticRegression\n",
        "from sklearn.tree import DecisionTreeClassifier\n",
        "\n",
        "modelo_nb = GaussianNB()\n",
        "modelo_rl = LogisticRegression()\n",
        "modelo_arbol = DecisionTreeClassifier()\n",
        "def train_predict(modelo, vars):\n",
        "  modelo.fit(x_train_final[vars], y_train)\n",
        "  preds = modelo.predict(x_test_final[vars])\n",
        "  preds_proba = modelo.predict_proba(x_test_final[vars])\n",
        "  return modelo, preds, preds_proba\n",
        "\n",
        "\n",
        "modelo_uno, preds_uno, probas_uno = train_predict(modelo_nb, ['pclass','age_media','fare','female','male'])\n",
        "modelo_dos, preds_dos, probas_dos = train_predict(modelo_nb, ['pclass','age_mediana','fare','female','male'])\n",
        "modelo_tres, preds_tres, probas_tres = train_predict(modelo_nb, ['pclass','age_knn','fare','female','male'])\n",
        "modelo_cuatro, preds_cuatro, probas_cuatro = train_predict(modelo_nb, ['pclass','age_knn','fare','female'])\n",
        "modelo_cinco, preds_cinco, probas_cinco = train_predict(modelo_rl, ['pclass','age_knn','fare','female','male'])\n",
        "modelo_seis, preds_seis, probas_seis = train_predict(DecisionTreeClassifier(max_depth = 3), ['pclass','age_knn','fare','female','male'])\n",
        "modelo_siete, preds_siete, probas_siete = train_predict(DecisionTreeClassifier(max_depth = 4), ['pclass','age_knn','fare','female','male'])\n",
        "modelo_ocho, preds_ocho, probas_ocho = train_predict(DecisionTreeClassifier(max_depth = 5), ['pclass','age_knn','fare','female','male'])\n",
        "modelo_nueve, preds_nueve, probas_nueve = train_predict(DecisionTreeClassifier(max_depth = 6), ['pclass','age_knn','fare','female','male'])\n"
      ]
    },
    {
      "cell_type": "code",
      "execution_count": null,
      "metadata": {
        "colab": {
          "base_uri": "https://localhost:8080/"
        },
        "id": "ax-d4QB2GSfq",
        "outputId": "0cb418fb-0665-4eb6-c73b-ab6bd2b87218"
      },
      "outputs": [
        {
          "name": "stdout",
          "output_type": "stream",
          "text": [
            "0.8513805522208883\n",
            "0.8538415366146459\n",
            "0.8546818727490996\n",
            "0.8525210084033613\n",
            "0.8573229291716686\n",
            "0.8460684273709485\n",
            "0.8596338535414165\n",
            "0.8637154861944779\n",
            "0.851500600240096\n"
          ]
        }
      ],
      "source": [
        "### AUC\n",
        "\n",
        "from sklearn.metrics import roc_auc_score\n",
        "\n",
        "print(roc_auc_score(y_test,probas_uno[:,1]))\n",
        "print(roc_auc_score(y_test,probas_dos[:,1]))\n",
        "print(roc_auc_score(y_test,probas_tres[:,1]))\n",
        "print(roc_auc_score(y_test,probas_cuatro[:,1]))\n",
        "print(roc_auc_score(y_test,probas_cinco[:,1]))\n",
        "print(roc_auc_score(y_test,probas_seis[:,1]))\n",
        "print(roc_auc_score(y_test,probas_siete[:,1]))\n",
        "print(roc_auc_score(y_test,probas_ocho[:,1]))\n",
        "print(roc_auc_score(y_test,probas_nueve[:,1]))\n",
        "\n"
      ]
    },
    {
      "cell_type": "code",
      "execution_count": null,
      "metadata": {
        "colab": {
          "base_uri": "https://localhost:8080/",
          "height": 472
        },
        "id": "nGg5gujXHoX-",
        "outputId": "86cb82ae-9df7-431a-9494-8d5ad5b0c555"
      },
      "outputs": [
        {
          "data": {
            "image/png": "[encoded data removed]",
            "text/plain": [
              "<Figure size 640x480 with 1 Axes>"
            ]
          },
          "metadata": {},
          "output_type": "display_data"
        }
      ],
      "source": [
        "### Dibujar la curva ROC\n",
        "from sklearn.metrics import roc_curve, auc\n",
        "\n",
        "\n",
        "fpr_1, tpr_1, threshold_1 = roc_curve(y_test, probas_uno[:,1])\n",
        "roc_auc_1 = auc(fpr_1, tpr_1)\n",
        "\n",
        "\n",
        "fpr_2, tpr_2, threshold_2 = roc_curve(y_test, probas_dos[:,1])\n",
        "roc_auc_2 = auc(fpr_2, tpr_2)\n",
        "\n",
        "# method I: plt\n",
        "\n",
        "plt.title('Receiver Operating Characteristic')\n",
        "plt.plot(fpr_1, tpr_1, 'b', label = 'NB Media = %0.5f' % roc_auc_1)\n",
        "plt.plot(fpr_2, tpr_2, 'g', label = 'NB Mediana = %0.5f' % roc_auc_2)\n",
        "plt.legend(loc = 'lower right')\n",
        "plt.plot([0, 1], [0, 1],'r--')\n",
        "plt.xlim([0, 1])\n",
        "plt.ylim([0, 1])\n",
        "plt.ylabel('True Positive Rate')\n",
        "plt.xlabel('False Positive Rate')\n",
        "plt.show()\n",
        "\n"
      ]
    },
    {
      "cell_type": "code",
      "execution_count": null,
      "metadata": {
        "colab": {
          "base_uri": "https://localhost:8080/"
        },
        "id": "EfqWa4ODI2Qd",
        "outputId": "e1775104-a449-470a-c875-abcaceb20f6f"
      },
      "outputs": [
        {
          "name": "stdout",
          "output_type": "stream",
          "text": [
            "109000\n",
            "117000\n"
          ]
        }
      ],
      "source": [
        "from sklearn.metrics import confusion_matrix\n",
        "\n",
        "costos = np.array([[1000,-1000],[-500,100]])\n",
        "print(np.sum(confusion_matrix(y_test,preds_uno) *costos))\n",
        "print(np.sum(confusion_matrix(y_test,preds_ocho) *costos))"
      ]
    },
    {
      "cell_type": "code",
      "execution_count": null,
      "metadata": {
        "id": "LhoCSYijK7Ly"
      },
      "outputs": [],
      "source": [
        "from sklearn import metrics\n",
        "from sklearn.model_selection import cross_validate\n",
        "\n",
        "cv_results = cross_validate(modelo_nb, x_train_final[['pclass','age_media','fare','female','male']], y_train, cv=100, scoring = 'roc_auc', return_train_score = True)\n"
      ]
    },
    {
      "cell_type": "code",
      "execution_count": null,
      "metadata": {
        "colab": {
          "base_uri": "https://localhost:8080/",
          "height": 447
        },
        "id": "vQj8YvT9LdDb",
        "outputId": "d36aa30a-e0cd-4903-9293-3c16781d0d4e"
      },
      "outputs": [
        {
          "data": {
            "text/plain": [
              "<Axes: >"
            ]
          },
          "execution_count": 113,
          "metadata": {},
          "output_type": "execute_result"
        },
        {
          "data": {
            "image/png": "[encoded data removed]",
            "text/plain": [
              "<Figure size 640x480 with 1 Axes>"
            ]
          },
          "metadata": {},
          "output_type": "display_data"
        }
      ],
      "source": [
        "sns.lineplot(x = np.arange(0,100),y = cv_results['test_score'], color = 'red')\n",
        "sns.lineplot(x = np.arange(0,100),y = cv_results['train_score'], color = 'green')"
      ]
    },
    {
      "cell_type": "code",
      "execution_count": null,
      "metadata": {
        "colab": {
          "base_uri": "https://localhost:8080/"
        },
        "id": "pXw76ubUNT4H",
        "outputId": "3626c73e-1d24-412c-ae99-21b8c190faaa"
      },
      "outputs": [
        {
          "name": "stdout",
          "output_type": "stream",
          "text": [
            "0.82875\n",
            "0.8274342972507001\n",
            "0.18912418963458447\n",
            "0.0017024254749531881\n"
          ]
        }
      ],
      "source": [
        "print(np.mean(cv_results['test_score']))\n",
        "print(np.mean(cv_results['train_score']))\n",
        "print(np.std(cv_results['test_score']))\n",
        "print(np.std(cv_results['train_score']))"
      ]
    },
    {
      "cell_type": "code",
      "execution_count": null,
      "metadata": {
        "id": "spw3RhglOazO"
      },
      "outputs": [],
      "source": [
        "import pickle\n",
        "\n",
        "filename = 'finalized_model.sav'\n",
        "pickle.dump(modelo_nb, open(filename, 'wb'))"
      ]
    },
    {
      "cell_type": "code",
      "execution_count": null,
      "metadata": {
        "colab": {
          "base_uri": "https://localhost:8080/"
        },
        "id": "BjpBf79vOkbu",
        "outputId": "1f2ad72b-1812-48cd-ef5a-746ac695eb9d"
      },
      "outputs": [
        {
          "data": {
            "text/plain": [
              "0.7947761194029851"
            ]
          },
          "execution_count": 121,
          "metadata": {},
          "output_type": "execute_result"
        }
      ],
      "source": [
        "loaded_model = pickle.load(open(filename, 'rb'))\n",
        "result = loaded_model.score(x_test_final[['pclass','age_knn','fare','female']], y_test)\n",
        "result"
      ]
    }
  ],
  "metadata": {
    "colab": {
      "provenance": []
    },
    "kernelspec": {
      "display_name": "Python 3",
      "name": "python3"
    },
    "language_info": {
      "codemirror_mode": {
        "name": "ipython",
        "version": 3
      },
      "file_extension": ".py",
      "mimetype": "text/x-python",
      "name": "python",
      "nbconvert_exporter": "python",
      "pygments_lexer": "ipython3",
      "version": "3.11.3"
    }
  },
  "nbformat": 4,
  "nbformat_minor": 0
}
